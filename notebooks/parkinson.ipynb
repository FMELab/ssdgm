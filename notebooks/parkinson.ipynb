{
 "cells": [
  {
   "cell_type": "markdown",
   "metadata": {},
   "source": [
    "# Data Exploration for the Parkinsons Dataset"
   ]
  },
  {
   "cell_type": "code",
   "execution_count": 20,
   "metadata": {},
   "outputs": [],
   "source": [
    "import os\n",
    "\n",
    "import numpy as np\n",
    "\n",
    "import pandas as pd\n",
    "\n",
    "from torchvision.datasets.utils import download_url\n",
    "\n",
    "from sklearn.preprocessing import StandardScaler"
   ]
  },
  {
   "cell_type": "markdown",
   "metadata": {},
   "source": [
    "## Download the UCI Parkinsons dataset"
   ]
  },
  {
   "cell_type": "code",
   "execution_count": 7,
   "metadata": {},
   "outputs": [
    {
     "data": {
      "text/plain": [
       "['https://archive.ics.uci.edu/ml/machine-learning-databases/parkinsons/telemonitoring/parkinsons_updrs.data',\n",
       " 'https://archive.ics.uci.edu/ml/machine-learning-databases/parkinsons/telemonitoring/parkinsons_updrs.names']"
      ]
     },
     "execution_count": 7,
     "metadata": {},
     "output_type": "execute_result"
    }
   ],
   "source": [
    "urls = [\n",
    "    \"https://archive.ics.uci.edu/ml/machine-learning-databases/parkinsons/telemonitoring/parkinsons_updrs.data\",\n",
    "    \"https://archive.ics.uci.edu/ml/machine-learning-databases/parkinsons/telemonitoring/parkinsons_updrs.names\"\n",
    "]\n",
    "\n",
    "raw_folder = \"/home/flo/ssdgm/notebooks/datasets/Parkinsons/raw\"\n",
    "\n",
    "os.makedirs(raw_folder, exist_ok=True)"
   ]
  },
  {
   "cell_type": "code",
   "execution_count": 3,
   "metadata": {},
   "outputs": [
    {
     "data": {
      "text/plain": [
       "['parkinsons_updrs.data', 'parkinsons_updrs.names']"
      ]
     },
     "execution_count": 3,
     "metadata": {},
     "output_type": "execute_result"
    }
   ],
   "source": [
    "filenames = [os.path.basename(url) for url in urls]\n",
    "filenames"
   ]
  },
  {
   "cell_type": "code",
   "execution_count": 8,
   "metadata": {},
   "outputs": [
    {
     "name": "stdout",
     "output_type": "stream",
     "text": [
      "Downloading https://archive.ics.uci.edu/ml/machine-learning-databases/parkinsons/telemonitoring/parkinsons_updrs.data to /home/flo/ssdgm/notebooks/datasets/Parkinsons/raw/parkinsons_updrs.data\n"
     ]
    },
    {
     "data": {
      "application/vnd.jupyter.widget-view+json": {
       "model_id": "ff896f207b3d4571b8fbd780f22888cc",
       "version_major": 2,
       "version_minor": 0
      },
      "text/plain": [
       "  0%|          | 0/911261 [00:00<?, ?it/s]"
      ]
     },
     "metadata": {},
     "output_type": "display_data"
    },
    {
     "name": "stdout",
     "output_type": "stream",
     "text": [
      "Downloading https://archive.ics.uci.edu/ml/machine-learning-databases/parkinsons/telemonitoring/parkinsons_updrs.names to /home/flo/ssdgm/notebooks/datasets/Parkinsons/raw/parkinsons_updrs.names\n"
     ]
    },
    {
     "data": {
      "application/vnd.jupyter.widget-view+json": {
       "model_id": "8086a07541f24f0a91d4cdc58a4bc15d",
       "version_major": 2,
       "version_minor": 0
      },
      "text/plain": [
       "  0%|          | 0/4423 [00:00<?, ?it/s]"
      ]
     },
     "metadata": {},
     "output_type": "display_data"
    }
   ],
   "source": [
    "for filename, url in zip(filenames, urls):\n",
    "    download_url(url=url, root=raw_folder, filename=filename)"
   ]
  },
  {
   "cell_type": "markdown",
   "metadata": {},
   "source": [
    "## Load the UCI Parkinsons dataset"
   ]
  },
  {
   "cell_type": "code",
   "execution_count": 14,
   "metadata": {},
   "outputs": [],
   "source": [
    "uci_df = pd.read_csv(os.path.join(raw_folder, filenames[0]))"
   ]
  },
  {
   "cell_type": "markdown",
   "metadata": {},
   "source": [
    "## Load the SSDKL Parkinsons dataset"
   ]
  },
  {
   "cell_type": "code",
   "execution_count": 11,
   "metadata": {},
   "outputs": [],
   "source": [
    "ssdkl_folder = \"/home/flo/ssdgm/notebooks/datasets/SSDKL/parkinsons\"\n",
    "\n",
    "X = np.load(os.path.join(ssdkl_folder, \"X.npy\"))\n",
    "y = np.load(os.path.join(ssdkl_folder, \"y.npy\"))"
   ]
  },
  {
   "cell_type": "markdown",
   "metadata": {},
   "source": [
    "## Exploration"
   ]
  },
  {
   "cell_type": "code",
   "execution_count": 15,
   "metadata": {},
   "outputs": [
    {
     "data": {
      "text/html": [
       "<div>\n",
       "<style scoped>\n",
       "    .dataframe tbody tr th:only-of-type {\n",
       "        vertical-align: middle;\n",
       "    }\n",
       "\n",
       "    .dataframe tbody tr th {\n",
       "        vertical-align: top;\n",
       "    }\n",
       "\n",
       "    .dataframe thead th {\n",
       "        text-align: right;\n",
       "    }\n",
       "</style>\n",
       "<table border=\"1\" class=\"dataframe\">\n",
       "  <thead>\n",
       "    <tr style=\"text-align: right;\">\n",
       "      <th></th>\n",
       "      <th>subject#</th>\n",
       "      <th>age</th>\n",
       "      <th>sex</th>\n",
       "      <th>test_time</th>\n",
       "      <th>motor_UPDRS</th>\n",
       "      <th>total_UPDRS</th>\n",
       "      <th>Jitter(%)</th>\n",
       "      <th>Jitter(Abs)</th>\n",
       "      <th>Jitter:RAP</th>\n",
       "      <th>Jitter:PPQ5</th>\n",
       "      <th>Jitter:DDP</th>\n",
       "      <th>Shimmer</th>\n",
       "      <th>Shimmer(dB)</th>\n",
       "      <th>Shimmer:APQ3</th>\n",
       "      <th>Shimmer:APQ5</th>\n",
       "      <th>Shimmer:APQ11</th>\n",
       "      <th>Shimmer:DDA</th>\n",
       "      <th>NHR</th>\n",
       "      <th>HNR</th>\n",
       "      <th>RPDE</th>\n",
       "      <th>DFA</th>\n",
       "      <th>PPE</th>\n",
       "    </tr>\n",
       "  </thead>\n",
       "  <tbody>\n",
       "    <tr>\n",
       "      <th>0</th>\n",
       "      <td>1</td>\n",
       "      <td>72</td>\n",
       "      <td>0</td>\n",
       "      <td>5.6431</td>\n",
       "      <td>28.199</td>\n",
       "      <td>34.398</td>\n",
       "      <td>0.00662</td>\n",
       "      <td>0.000034</td>\n",
       "      <td>0.00401</td>\n",
       "      <td>0.00317</td>\n",
       "      <td>0.01204</td>\n",
       "      <td>0.02565</td>\n",
       "      <td>0.230</td>\n",
       "      <td>0.01438</td>\n",
       "      <td>0.01309</td>\n",
       "      <td>0.01662</td>\n",
       "      <td>0.04314</td>\n",
       "      <td>0.014290</td>\n",
       "      <td>21.640</td>\n",
       "      <td>0.41888</td>\n",
       "      <td>0.54842</td>\n",
       "      <td>0.16006</td>\n",
       "    </tr>\n",
       "    <tr>\n",
       "      <th>1</th>\n",
       "      <td>1</td>\n",
       "      <td>72</td>\n",
       "      <td>0</td>\n",
       "      <td>12.6660</td>\n",
       "      <td>28.447</td>\n",
       "      <td>34.894</td>\n",
       "      <td>0.00300</td>\n",
       "      <td>0.000017</td>\n",
       "      <td>0.00132</td>\n",
       "      <td>0.00150</td>\n",
       "      <td>0.00395</td>\n",
       "      <td>0.02024</td>\n",
       "      <td>0.179</td>\n",
       "      <td>0.00994</td>\n",
       "      <td>0.01072</td>\n",
       "      <td>0.01689</td>\n",
       "      <td>0.02982</td>\n",
       "      <td>0.011112</td>\n",
       "      <td>27.183</td>\n",
       "      <td>0.43493</td>\n",
       "      <td>0.56477</td>\n",
       "      <td>0.10810</td>\n",
       "    </tr>\n",
       "    <tr>\n",
       "      <th>2</th>\n",
       "      <td>1</td>\n",
       "      <td>72</td>\n",
       "      <td>0</td>\n",
       "      <td>19.6810</td>\n",
       "      <td>28.695</td>\n",
       "      <td>35.389</td>\n",
       "      <td>0.00481</td>\n",
       "      <td>0.000025</td>\n",
       "      <td>0.00205</td>\n",
       "      <td>0.00208</td>\n",
       "      <td>0.00616</td>\n",
       "      <td>0.01675</td>\n",
       "      <td>0.181</td>\n",
       "      <td>0.00734</td>\n",
       "      <td>0.00844</td>\n",
       "      <td>0.01458</td>\n",
       "      <td>0.02202</td>\n",
       "      <td>0.020220</td>\n",
       "      <td>23.047</td>\n",
       "      <td>0.46222</td>\n",
       "      <td>0.54405</td>\n",
       "      <td>0.21014</td>\n",
       "    </tr>\n",
       "    <tr>\n",
       "      <th>3</th>\n",
       "      <td>1</td>\n",
       "      <td>72</td>\n",
       "      <td>0</td>\n",
       "      <td>25.6470</td>\n",
       "      <td>28.905</td>\n",
       "      <td>35.810</td>\n",
       "      <td>0.00528</td>\n",
       "      <td>0.000027</td>\n",
       "      <td>0.00191</td>\n",
       "      <td>0.00264</td>\n",
       "      <td>0.00573</td>\n",
       "      <td>0.02309</td>\n",
       "      <td>0.327</td>\n",
       "      <td>0.01106</td>\n",
       "      <td>0.01265</td>\n",
       "      <td>0.01963</td>\n",
       "      <td>0.03317</td>\n",
       "      <td>0.027837</td>\n",
       "      <td>24.445</td>\n",
       "      <td>0.48730</td>\n",
       "      <td>0.57794</td>\n",
       "      <td>0.33277</td>\n",
       "    </tr>\n",
       "    <tr>\n",
       "      <th>4</th>\n",
       "      <td>1</td>\n",
       "      <td>72</td>\n",
       "      <td>0</td>\n",
       "      <td>33.6420</td>\n",
       "      <td>29.187</td>\n",
       "      <td>36.375</td>\n",
       "      <td>0.00335</td>\n",
       "      <td>0.000020</td>\n",
       "      <td>0.00093</td>\n",
       "      <td>0.00130</td>\n",
       "      <td>0.00278</td>\n",
       "      <td>0.01703</td>\n",
       "      <td>0.176</td>\n",
       "      <td>0.00679</td>\n",
       "      <td>0.00929</td>\n",
       "      <td>0.01819</td>\n",
       "      <td>0.02036</td>\n",
       "      <td>0.011625</td>\n",
       "      <td>26.126</td>\n",
       "      <td>0.47188</td>\n",
       "      <td>0.56122</td>\n",
       "      <td>0.19361</td>\n",
       "    </tr>\n",
       "  </tbody>\n",
       "</table>\n",
       "</div>"
      ],
      "text/plain": [
       "   subject#  age  sex  test_time  ...     HNR     RPDE      DFA      PPE\n",
       "0         1   72    0     5.6431  ...  21.640  0.41888  0.54842  0.16006\n",
       "1         1   72    0    12.6660  ...  27.183  0.43493  0.56477  0.10810\n",
       "2         1   72    0    19.6810  ...  23.047  0.46222  0.54405  0.21014\n",
       "3         1   72    0    25.6470  ...  24.445  0.48730  0.57794  0.33277\n",
       "4         1   72    0    33.6420  ...  26.126  0.47188  0.56122  0.19361\n",
       "\n",
       "[5 rows x 22 columns]"
      ]
     },
     "execution_count": 15,
     "metadata": {},
     "output_type": "execute_result"
    }
   ],
   "source": [
    "uci_df.head()"
   ]
  },
  {
   "cell_type": "code",
   "execution_count": 16,
   "metadata": {},
   "outputs": [
    {
     "data": {
      "text/html": [
       "<div>\n",
       "<style scoped>\n",
       "    .dataframe tbody tr th:only-of-type {\n",
       "        vertical-align: middle;\n",
       "    }\n",
       "\n",
       "    .dataframe tbody tr th {\n",
       "        vertical-align: top;\n",
       "    }\n",
       "\n",
       "    .dataframe thead th {\n",
       "        text-align: right;\n",
       "    }\n",
       "</style>\n",
       "<table border=\"1\" class=\"dataframe\">\n",
       "  <thead>\n",
       "    <tr style=\"text-align: right;\">\n",
       "      <th></th>\n",
       "      <th>subject#</th>\n",
       "      <th>age</th>\n",
       "      <th>sex</th>\n",
       "      <th>test_time</th>\n",
       "      <th>motor_UPDRS</th>\n",
       "      <th>total_UPDRS</th>\n",
       "      <th>Jitter(%)</th>\n",
       "      <th>Jitter(Abs)</th>\n",
       "      <th>Jitter:RAP</th>\n",
       "      <th>Jitter:PPQ5</th>\n",
       "      <th>Jitter:DDP</th>\n",
       "      <th>Shimmer</th>\n",
       "      <th>Shimmer(dB)</th>\n",
       "      <th>Shimmer:APQ3</th>\n",
       "      <th>Shimmer:APQ5</th>\n",
       "      <th>Shimmer:APQ11</th>\n",
       "      <th>Shimmer:DDA</th>\n",
       "      <th>NHR</th>\n",
       "      <th>HNR</th>\n",
       "      <th>RPDE</th>\n",
       "      <th>DFA</th>\n",
       "      <th>PPE</th>\n",
       "    </tr>\n",
       "  </thead>\n",
       "  <tbody>\n",
       "    <tr>\n",
       "      <th>count</th>\n",
       "      <td>5875.000000</td>\n",
       "      <td>5875.000000</td>\n",
       "      <td>5875.000000</td>\n",
       "      <td>5875.000000</td>\n",
       "      <td>5875.000000</td>\n",
       "      <td>5875.000000</td>\n",
       "      <td>5875.000000</td>\n",
       "      <td>5875.000000</td>\n",
       "      <td>5875.000000</td>\n",
       "      <td>5875.000000</td>\n",
       "      <td>5875.000000</td>\n",
       "      <td>5875.000000</td>\n",
       "      <td>5875.000000</td>\n",
       "      <td>5875.000000</td>\n",
       "      <td>5875.000000</td>\n",
       "      <td>5875.000000</td>\n",
       "      <td>5875.000000</td>\n",
       "      <td>5875.000000</td>\n",
       "      <td>5875.000000</td>\n",
       "      <td>5875.000000</td>\n",
       "      <td>5875.000000</td>\n",
       "      <td>5875.000000</td>\n",
       "    </tr>\n",
       "    <tr>\n",
       "      <th>mean</th>\n",
       "      <td>21.494128</td>\n",
       "      <td>64.804936</td>\n",
       "      <td>0.317787</td>\n",
       "      <td>92.863722</td>\n",
       "      <td>21.296229</td>\n",
       "      <td>29.018942</td>\n",
       "      <td>0.006154</td>\n",
       "      <td>0.000044</td>\n",
       "      <td>0.002987</td>\n",
       "      <td>0.003277</td>\n",
       "      <td>0.008962</td>\n",
       "      <td>0.034035</td>\n",
       "      <td>0.310960</td>\n",
       "      <td>0.017156</td>\n",
       "      <td>0.020144</td>\n",
       "      <td>0.027481</td>\n",
       "      <td>0.051467</td>\n",
       "      <td>0.032120</td>\n",
       "      <td>21.679495</td>\n",
       "      <td>0.541473</td>\n",
       "      <td>0.653240</td>\n",
       "      <td>0.219589</td>\n",
       "    </tr>\n",
       "    <tr>\n",
       "      <th>std</th>\n",
       "      <td>12.372279</td>\n",
       "      <td>8.821524</td>\n",
       "      <td>0.465656</td>\n",
       "      <td>53.445602</td>\n",
       "      <td>8.129282</td>\n",
       "      <td>10.700283</td>\n",
       "      <td>0.005624</td>\n",
       "      <td>0.000036</td>\n",
       "      <td>0.003124</td>\n",
       "      <td>0.003732</td>\n",
       "      <td>0.009371</td>\n",
       "      <td>0.025835</td>\n",
       "      <td>0.230254</td>\n",
       "      <td>0.013237</td>\n",
       "      <td>0.016664</td>\n",
       "      <td>0.019986</td>\n",
       "      <td>0.039711</td>\n",
       "      <td>0.059692</td>\n",
       "      <td>4.291096</td>\n",
       "      <td>0.100986</td>\n",
       "      <td>0.070902</td>\n",
       "      <td>0.091498</td>\n",
       "    </tr>\n",
       "    <tr>\n",
       "      <th>min</th>\n",
       "      <td>1.000000</td>\n",
       "      <td>36.000000</td>\n",
       "      <td>0.000000</td>\n",
       "      <td>-4.262500</td>\n",
       "      <td>5.037700</td>\n",
       "      <td>7.000000</td>\n",
       "      <td>0.000830</td>\n",
       "      <td>0.000002</td>\n",
       "      <td>0.000330</td>\n",
       "      <td>0.000430</td>\n",
       "      <td>0.000980</td>\n",
       "      <td>0.003060</td>\n",
       "      <td>0.026000</td>\n",
       "      <td>0.001610</td>\n",
       "      <td>0.001940</td>\n",
       "      <td>0.002490</td>\n",
       "      <td>0.004840</td>\n",
       "      <td>0.000286</td>\n",
       "      <td>1.659000</td>\n",
       "      <td>0.151020</td>\n",
       "      <td>0.514040</td>\n",
       "      <td>0.021983</td>\n",
       "    </tr>\n",
       "    <tr>\n",
       "      <th>25%</th>\n",
       "      <td>10.000000</td>\n",
       "      <td>58.000000</td>\n",
       "      <td>0.000000</td>\n",
       "      <td>46.847500</td>\n",
       "      <td>15.000000</td>\n",
       "      <td>21.371000</td>\n",
       "      <td>0.003580</td>\n",
       "      <td>0.000022</td>\n",
       "      <td>0.001580</td>\n",
       "      <td>0.001820</td>\n",
       "      <td>0.004730</td>\n",
       "      <td>0.019120</td>\n",
       "      <td>0.175000</td>\n",
       "      <td>0.009280</td>\n",
       "      <td>0.010790</td>\n",
       "      <td>0.015665</td>\n",
       "      <td>0.027830</td>\n",
       "      <td>0.010955</td>\n",
       "      <td>19.406000</td>\n",
       "      <td>0.469785</td>\n",
       "      <td>0.596180</td>\n",
       "      <td>0.156340</td>\n",
       "    </tr>\n",
       "    <tr>\n",
       "      <th>50%</th>\n",
       "      <td>22.000000</td>\n",
       "      <td>65.000000</td>\n",
       "      <td>0.000000</td>\n",
       "      <td>91.523000</td>\n",
       "      <td>20.871000</td>\n",
       "      <td>27.576000</td>\n",
       "      <td>0.004900</td>\n",
       "      <td>0.000035</td>\n",
       "      <td>0.002250</td>\n",
       "      <td>0.002490</td>\n",
       "      <td>0.006750</td>\n",
       "      <td>0.027510</td>\n",
       "      <td>0.253000</td>\n",
       "      <td>0.013700</td>\n",
       "      <td>0.015940</td>\n",
       "      <td>0.022710</td>\n",
       "      <td>0.041110</td>\n",
       "      <td>0.018448</td>\n",
       "      <td>21.920000</td>\n",
       "      <td>0.542250</td>\n",
       "      <td>0.643600</td>\n",
       "      <td>0.205500</td>\n",
       "    </tr>\n",
       "    <tr>\n",
       "      <th>75%</th>\n",
       "      <td>33.000000</td>\n",
       "      <td>72.000000</td>\n",
       "      <td>1.000000</td>\n",
       "      <td>138.445000</td>\n",
       "      <td>27.596500</td>\n",
       "      <td>36.399000</td>\n",
       "      <td>0.006800</td>\n",
       "      <td>0.000053</td>\n",
       "      <td>0.003290</td>\n",
       "      <td>0.003460</td>\n",
       "      <td>0.009870</td>\n",
       "      <td>0.039750</td>\n",
       "      <td>0.365000</td>\n",
       "      <td>0.020575</td>\n",
       "      <td>0.023755</td>\n",
       "      <td>0.032715</td>\n",
       "      <td>0.061735</td>\n",
       "      <td>0.031463</td>\n",
       "      <td>24.444000</td>\n",
       "      <td>0.614045</td>\n",
       "      <td>0.711335</td>\n",
       "      <td>0.264490</td>\n",
       "    </tr>\n",
       "    <tr>\n",
       "      <th>max</th>\n",
       "      <td>42.000000</td>\n",
       "      <td>85.000000</td>\n",
       "      <td>1.000000</td>\n",
       "      <td>215.490000</td>\n",
       "      <td>39.511000</td>\n",
       "      <td>54.992000</td>\n",
       "      <td>0.099990</td>\n",
       "      <td>0.000446</td>\n",
       "      <td>0.057540</td>\n",
       "      <td>0.069560</td>\n",
       "      <td>0.172630</td>\n",
       "      <td>0.268630</td>\n",
       "      <td>2.107000</td>\n",
       "      <td>0.162670</td>\n",
       "      <td>0.167020</td>\n",
       "      <td>0.275460</td>\n",
       "      <td>0.488020</td>\n",
       "      <td>0.748260</td>\n",
       "      <td>37.875000</td>\n",
       "      <td>0.966080</td>\n",
       "      <td>0.865600</td>\n",
       "      <td>0.731730</td>\n",
       "    </tr>\n",
       "  </tbody>\n",
       "</table>\n",
       "</div>"
      ],
      "text/plain": [
       "          subject#          age  ...          DFA          PPE\n",
       "count  5875.000000  5875.000000  ...  5875.000000  5875.000000\n",
       "mean     21.494128    64.804936  ...     0.653240     0.219589\n",
       "std      12.372279     8.821524  ...     0.070902     0.091498\n",
       "min       1.000000    36.000000  ...     0.514040     0.021983\n",
       "25%      10.000000    58.000000  ...     0.596180     0.156340\n",
       "50%      22.000000    65.000000  ...     0.643600     0.205500\n",
       "75%      33.000000    72.000000  ...     0.711335     0.264490\n",
       "max      42.000000    85.000000  ...     0.865600     0.731730\n",
       "\n",
       "[8 rows x 22 columns]"
      ]
     },
     "execution_count": 16,
     "metadata": {},
     "output_type": "execute_result"
    }
   ],
   "source": [
    "uci_df.describe()"
   ]
  },
  {
   "cell_type": "code",
   "execution_count": 18,
   "metadata": {},
   "outputs": [
    {
     "data": {
      "text/plain": [
       "((5875, 20), (5875,))"
      ]
     },
     "execution_count": 18,
     "metadata": {},
     "output_type": "execute_result"
    }
   ],
   "source": [
    "X.shape, y.shape"
   ]
  },
  {
   "cell_type": "code",
   "execution_count": 23,
   "metadata": {},
   "outputs": [
    {
     "data": {
      "text/plain": [
       "array([-4.06369973e-16, -1.93509511e-17,  3.74924678e-17,  7.74038044e-17,\n",
       "        1.45132133e-16,  1.16105707e-16, -9.67547555e-18, -2.90264267e-17,\n",
       "       -4.83773778e-18, -7.74038044e-17, -4.83773778e-17,  4.83773778e-17,\n",
       "       -2.90264267e-17, -3.87019022e-17,  9.67547555e-17, -2.90264267e-17,\n",
       "       -6.19230435e-16,  1.93509511e-16,  4.16045449e-16, -4.16045449e-16])"
      ]
     },
     "execution_count": 23,
     "metadata": {},
     "output_type": "execute_result"
    }
   ],
   "source": [
    "np.mean(X, axis=0)"
   ]
  },
  {
   "cell_type": "code",
   "execution_count": 24,
   "metadata": {},
   "outputs": [
    {
     "data": {
      "text/plain": [
       "array([1., 1., 1., 1., 1., 1., 1., 1., 1., 1., 1., 1., 1., 1., 1., 1., 1.,\n",
       "       1., 1., 1.])"
      ]
     },
     "execution_count": 24,
     "metadata": {},
     "output_type": "execute_result"
    }
   ],
   "source": [
    "np.std(X, axis=0)"
   ]
  },
  {
   "cell_type": "code",
   "execution_count": 25,
   "metadata": {},
   "outputs": [
    {
     "data": {
      "text/plain": [
       "-4.613266742609917e-14"
      ]
     },
     "execution_count": 25,
     "metadata": {},
     "output_type": "execute_result"
    }
   ],
   "source": [
    "np.mean(y)"
   ]
  },
  {
   "cell_type": "code",
   "execution_count": 26,
   "metadata": {},
   "outputs": [
    {
     "data": {
      "text/plain": [
       "10.699372551138886"
      ]
     },
     "execution_count": 26,
     "metadata": {},
     "output_type": "execute_result"
    }
   ],
   "source": [
    "np.std(y)"
   ]
  },
  {
   "cell_type": "code",
   "execution_count": 28,
   "metadata": {},
   "outputs": [],
   "source": [
    "uci_data_npy = uci_df.loc[:, uci_df.columns != \"total_UPDRS\"].to_numpy()\n",
    "uci_target_npy = uci_df[\"total_UPDRS\"].to_numpy()"
   ]
  },
  {
   "cell_type": "code",
   "execution_count": 30,
   "metadata": {},
   "outputs": [
    {
     "data": {
      "text/plain": [
       "StandardScaler()"
      ]
     },
     "execution_count": 30,
     "metadata": {},
     "output_type": "execute_result"
    }
   ],
   "source": [
    "scaler = StandardScaler()\n",
    "\n",
    "scaler.fit(X=uci_data_npy, y=uci_target_npy)"
   ]
  },
  {
   "cell_type": "code",
   "execution_count": 37,
   "metadata": {},
   "outputs": [
    {
     "data": {
      "text/plain": [
       "array([ 7.74038044e-17, -4.06369973e-16, -1.93509511e-17,  3.50735989e-17,\n",
       "        5.80528533e-17,  1.45132133e-16,  1.16105707e-16,  1.93509511e-17,\n",
       "       -1.93509511e-17,  1.69320822e-16,  1.74158560e-16,  1.83834035e-16,\n",
       "        4.83773778e-17,  1.54807609e-16, -3.87019022e-17,  9.67547555e-17,\n",
       "       -3.87019022e-17, -6.38581386e-16,  1.93509511e-16,  4.45071875e-16,\n",
       "        1.74158560e-16])"
      ]
     },
     "execution_count": 37,
     "metadata": {},
     "output_type": "execute_result"
    }
   ],
   "source": [
    "scaled_uci_data = scaler.transform(uci_data_npy)\n",
    "np.mean(scaled_uci_data, axis=0)\n"
   ]
  },
  {
   "cell_type": "code",
   "execution_count": 39,
   "metadata": {},
   "outputs": [
    {
     "data": {
      "text/plain": [
       "array([1., 1., 1., 1., 1., 1., 1., 1., 1., 1., 1., 1., 1., 1., 1., 1., 1.,\n",
       "       1., 1., 1., 1.])"
      ]
     },
     "execution_count": 39,
     "metadata": {},
     "output_type": "execute_result"
    }
   ],
   "source": [
    "np.std(scaled_uci_data, axis=0)"
   ]
  },
  {
   "cell_type": "code",
   "execution_count": null,
   "metadata": {},
   "outputs": [],
   "source": []
  }
 ],
 "metadata": {
  "interpreter": {
   "hash": "0a2203ed669433b5d3bd33c0d47dbc4f5122e298d03ea49763f0cabe7316dc83"
  },
  "kernelspec": {
   "display_name": "Python 3.8.12 64-bit ('ssdgm': conda)",
   "language": "python",
   "name": "python3"
  },
  "language_info": {
   "codemirror_mode": {
    "name": "ipython",
    "version": 3
   },
   "file_extension": ".py",
   "mimetype": "text/x-python",
   "name": "python",
   "nbconvert_exporter": "python",
   "pygments_lexer": "ipython3",
   "version": "3.8.12"
  },
  "orig_nbformat": 4
 },
 "nbformat": 4,
 "nbformat_minor": 2
}
