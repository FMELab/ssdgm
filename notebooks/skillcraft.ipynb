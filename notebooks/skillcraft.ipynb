{
 "cells": [
  {
   "cell_type": "markdown",
   "metadata": {},
   "source": [
    "# Data Exploration for the Skillcraft Dataset"
   ]
  },
  {
   "cell_type": "code",
   "execution_count": 1,
   "metadata": {
    "collapsed": true
   },
   "outputs": [],
   "source": [
    "import numpy as np\n",
    "import pandas as pd\n",
    "import os\n",
    "import torch\n",
    "\n",
    "from torchvision.datasets.utils import download_url, extract_archive\n",
    "\n",
    "from sklearn.preprocessing import StandardScaler\n",
    "\n",
    "%matplotlib inline"
   ]
  },
  {
   "cell_type": "code",
   "execution_count": 2,
   "metadata": {},
   "outputs": [
    {
     "name": "stdout",
     "output_type": "stream",
     "text": [
      "Traceback (most recent call last):\n",
      "  File \"/home/flo/.local/bin/jupyter\", line 5, in <module>\n",
      "    from jupyter_core.command import main\n",
      "ModuleNotFoundError: No module named 'jupyter_core'\n"
     ]
    }
   ],
   "source": [
    "!jupyter nbextension enable --py widgetsnbextension"
   ]
  },
  {
   "cell_type": "code",
   "execution_count": 22,
   "metadata": {},
   "outputs": [
    {
     "name": "stdout",
     "output_type": "stream",
     "text": [
      "Using downloaded and verified file: /home/flo/ssdgm/notebooks/datasets/UCI/Skillcraft/raw/SkillCraft1_Dataset.csv\n"
     ]
    }
   ],
   "source": [
    "url = \"http://archive.ics.uci.edu/ml/machine-learning-databases/00272/SkillCraft1_Dataset.csv\"\n",
    "\n",
    "raw_folder = \"/home/flo/ssdgm/notebooks/datasets/UCI/Skillcraft/raw\"\n",
    "processed_folder = \"/home/flo/ssdgm/notebooks/datasets/UCI/Skillcraft/processed\"\n",
    "filename = os.path.basename(url)\n",
    "\n",
    "os.makedirs(raw_folder, exist_ok=True)\n",
    "os.makedirs(processed_folder, exist_ok=True)\n",
    "\n",
    "download_url(url=url, root=raw_folder, filename=filename)"
   ]
  },
  {
   "cell_type": "code",
   "execution_count": 4,
   "metadata": {
    "pycharm": {
     "name": "#%%\n"
    }
   },
   "outputs": [
    {
     "data": {
      "text/html": [
       "<div>\n",
       "<style scoped>\n",
       "    .dataframe tbody tr th:only-of-type {\n",
       "        vertical-align: middle;\n",
       "    }\n",
       "\n",
       "    .dataframe tbody tr th {\n",
       "        vertical-align: top;\n",
       "    }\n",
       "\n",
       "    .dataframe thead th {\n",
       "        text-align: right;\n",
       "    }\n",
       "</style>\n",
       "<table border=\"1\" class=\"dataframe\">\n",
       "  <thead>\n",
       "    <tr style=\"text-align: right;\">\n",
       "      <th></th>\n",
       "      <th>GameID</th>\n",
       "      <th>LeagueIndex</th>\n",
       "      <th>Age</th>\n",
       "      <th>HoursPerWeek</th>\n",
       "      <th>TotalHours</th>\n",
       "      <th>APM</th>\n",
       "      <th>SelectByHotkeys</th>\n",
       "      <th>AssignToHotkeys</th>\n",
       "      <th>UniqueHotkeys</th>\n",
       "      <th>MinimapAttacks</th>\n",
       "      <th>MinimapRightClicks</th>\n",
       "      <th>NumberOfPACs</th>\n",
       "      <th>GapBetweenPACs</th>\n",
       "      <th>ActionLatency</th>\n",
       "      <th>ActionsInPAC</th>\n",
       "      <th>TotalMapExplored</th>\n",
       "      <th>WorkersMade</th>\n",
       "      <th>UniqueUnitsMade</th>\n",
       "      <th>ComplexUnitsMade</th>\n",
       "      <th>ComplexAbilitiesUsed</th>\n",
       "    </tr>\n",
       "  </thead>\n",
       "  <tbody>\n",
       "    <tr>\n",
       "      <th>0</th>\n",
       "      <td>52</td>\n",
       "      <td>5</td>\n",
       "      <td>27</td>\n",
       "      <td>10</td>\n",
       "      <td>3000</td>\n",
       "      <td>143.7180</td>\n",
       "      <td>0.003515</td>\n",
       "      <td>0.000220</td>\n",
       "      <td>7</td>\n",
       "      <td>0.000110</td>\n",
       "      <td>0.000392</td>\n",
       "      <td>0.004849</td>\n",
       "      <td>32.6677</td>\n",
       "      <td>40.8673</td>\n",
       "      <td>4.7508</td>\n",
       "      <td>28</td>\n",
       "      <td>0.001397</td>\n",
       "      <td>6</td>\n",
       "      <td>0.0</td>\n",
       "      <td>0.000000</td>\n",
       "    </tr>\n",
       "    <tr>\n",
       "      <th>1</th>\n",
       "      <td>55</td>\n",
       "      <td>5</td>\n",
       "      <td>23</td>\n",
       "      <td>10</td>\n",
       "      <td>5000</td>\n",
       "      <td>129.2322</td>\n",
       "      <td>0.003304</td>\n",
       "      <td>0.000259</td>\n",
       "      <td>4</td>\n",
       "      <td>0.000294</td>\n",
       "      <td>0.000432</td>\n",
       "      <td>0.004307</td>\n",
       "      <td>32.9194</td>\n",
       "      <td>42.3454</td>\n",
       "      <td>4.8434</td>\n",
       "      <td>22</td>\n",
       "      <td>0.001193</td>\n",
       "      <td>5</td>\n",
       "      <td>0.0</td>\n",
       "      <td>0.000208</td>\n",
       "    </tr>\n",
       "    <tr>\n",
       "      <th>2</th>\n",
       "      <td>56</td>\n",
       "      <td>4</td>\n",
       "      <td>30</td>\n",
       "      <td>10</td>\n",
       "      <td>200</td>\n",
       "      <td>69.9612</td>\n",
       "      <td>0.001101</td>\n",
       "      <td>0.000336</td>\n",
       "      <td>4</td>\n",
       "      <td>0.000294</td>\n",
       "      <td>0.000461</td>\n",
       "      <td>0.002926</td>\n",
       "      <td>44.6475</td>\n",
       "      <td>75.3548</td>\n",
       "      <td>4.0430</td>\n",
       "      <td>22</td>\n",
       "      <td>0.000745</td>\n",
       "      <td>6</td>\n",
       "      <td>0.0</td>\n",
       "      <td>0.000189</td>\n",
       "    </tr>\n",
       "    <tr>\n",
       "      <th>3</th>\n",
       "      <td>57</td>\n",
       "      <td>3</td>\n",
       "      <td>19</td>\n",
       "      <td>20</td>\n",
       "      <td>400</td>\n",
       "      <td>107.6016</td>\n",
       "      <td>0.001034</td>\n",
       "      <td>0.000213</td>\n",
       "      <td>1</td>\n",
       "      <td>0.000053</td>\n",
       "      <td>0.000543</td>\n",
       "      <td>0.003783</td>\n",
       "      <td>29.2203</td>\n",
       "      <td>53.7352</td>\n",
       "      <td>4.9155</td>\n",
       "      <td>19</td>\n",
       "      <td>0.000426</td>\n",
       "      <td>7</td>\n",
       "      <td>0.0</td>\n",
       "      <td>0.000384</td>\n",
       "    </tr>\n",
       "    <tr>\n",
       "      <th>4</th>\n",
       "      <td>58</td>\n",
       "      <td>3</td>\n",
       "      <td>32</td>\n",
       "      <td>10</td>\n",
       "      <td>500</td>\n",
       "      <td>122.8908</td>\n",
       "      <td>0.001136</td>\n",
       "      <td>0.000327</td>\n",
       "      <td>2</td>\n",
       "      <td>0.000000</td>\n",
       "      <td>0.001329</td>\n",
       "      <td>0.002368</td>\n",
       "      <td>22.6885</td>\n",
       "      <td>62.0813</td>\n",
       "      <td>9.3740</td>\n",
       "      <td>15</td>\n",
       "      <td>0.001174</td>\n",
       "      <td>4</td>\n",
       "      <td>0.0</td>\n",
       "      <td>0.000019</td>\n",
       "    </tr>\n",
       "  </tbody>\n",
       "</table>\n",
       "</div>"
      ],
      "text/plain": [
       "   GameID  LeagueIndex Age HoursPerWeek TotalHours       APM  SelectByHotkeys  \\\n",
       "0      52            5  27           10       3000  143.7180         0.003515   \n",
       "1      55            5  23           10       5000  129.2322         0.003304   \n",
       "2      56            4  30           10        200   69.9612         0.001101   \n",
       "3      57            3  19           20        400  107.6016         0.001034   \n",
       "4      58            3  32           10        500  122.8908         0.001136   \n",
       "\n",
       "   AssignToHotkeys  UniqueHotkeys  MinimapAttacks  MinimapRightClicks  \\\n",
       "0         0.000220              7        0.000110            0.000392   \n",
       "1         0.000259              4        0.000294            0.000432   \n",
       "2         0.000336              4        0.000294            0.000461   \n",
       "3         0.000213              1        0.000053            0.000543   \n",
       "4         0.000327              2        0.000000            0.001329   \n",
       "\n",
       "   NumberOfPACs  GapBetweenPACs  ActionLatency  ActionsInPAC  \\\n",
       "0      0.004849         32.6677        40.8673        4.7508   \n",
       "1      0.004307         32.9194        42.3454        4.8434   \n",
       "2      0.002926         44.6475        75.3548        4.0430   \n",
       "3      0.003783         29.2203        53.7352        4.9155   \n",
       "4      0.002368         22.6885        62.0813        9.3740   \n",
       "\n",
       "   TotalMapExplored  WorkersMade  UniqueUnitsMade  ComplexUnitsMade  \\\n",
       "0                28     0.001397                6               0.0   \n",
       "1                22     0.001193                5               0.0   \n",
       "2                22     0.000745                6               0.0   \n",
       "3                19     0.000426                7               0.0   \n",
       "4                15     0.001174                4               0.0   \n",
       "\n",
       "   ComplexAbilitiesUsed  \n",
       "0              0.000000  \n",
       "1              0.000208  \n",
       "2              0.000189  \n",
       "3              0.000384  \n",
       "4              0.000019  "
      ]
     },
     "execution_count": 4,
     "metadata": {},
     "output_type": "execute_result"
    }
   ],
   "source": [
    "df = pd.read_csv(os.path.join(raw_folder, filename))\n",
    "df.head()"
   ]
  },
  {
   "cell_type": "code",
   "execution_count": 5,
   "metadata": {
    "collapsed": false,
    "pycharm": {
     "name": "#%%\n"
    }
   },
   "outputs": [
    {
     "name": "stdout",
     "output_type": "stream",
     "text": [
      "GameID\n",
      "LeagueIndex\n",
      "Age\n",
      "HoursPerWeek\n",
      "TotalHours\n",
      "APM\n",
      "SelectByHotkeys\n",
      "AssignToHotkeys\n",
      "UniqueHotkeys\n",
      "MinimapAttacks\n",
      "MinimapRightClicks\n",
      "NumberOfPACs\n",
      "GapBetweenPACs\n",
      "ActionLatency\n",
      "ActionsInPAC\n",
      "TotalMapExplored\n",
      "WorkersMade\n",
      "UniqueUnitsMade\n",
      "ComplexUnitsMade\n",
      "ComplexAbilitiesUsed\n"
     ]
    }
   ],
   "source": [
    "print(*[col for col in df.columns], sep=\"\\n\")"
   ]
  },
  {
   "cell_type": "code",
   "execution_count": 6,
   "metadata": {},
   "outputs": [
    {
     "name": "stdout",
     "output_type": "stream",
     "text": [
      "The raw dataset has 3395 rows.\n"
     ]
    }
   ],
   "source": [
    "print(f\"The raw dataset has {len(df)} rows.\")"
   ]
  },
  {
   "cell_type": "markdown",
   "metadata": {},
   "source": [
    "Drop any potential duplicated rows."
   ]
  },
  {
   "cell_type": "code",
   "execution_count": 7,
   "metadata": {},
   "outputs": [
    {
     "data": {
      "text/plain": [
       "3395"
      ]
     },
     "execution_count": 7,
     "metadata": {},
     "output_type": "execute_result"
    }
   ],
   "source": [
    "df.drop_duplicates(inplace=True)\n",
    "len(df)"
   ]
  },
  {
   "cell_type": "code",
   "execution_count": 8,
   "metadata": {},
   "outputs": [
    {
     "data": {
      "text/plain": [
       "0          52\n",
       "1          55\n",
       "2          56\n",
       "3          57\n",
       "4          58\n",
       "        ...  \n",
       "3390    10089\n",
       "3391    10090\n",
       "3392    10092\n",
       "3393    10094\n",
       "3394    10095\n",
       "Name: GameID, Length: 3395, dtype: int64"
      ]
     },
     "execution_count": 8,
     "metadata": {},
     "output_type": "execute_result"
    }
   ],
   "source": [
    "df[\"GameID\"]"
   ]
  },
  {
   "cell_type": "markdown",
   "metadata": {},
   "source": [
    "Drop the \"GameID\" column, as it is an unique id for each game and doesn't hold\n",
    "any information."
   ]
  },
  {
   "cell_type": "code",
   "execution_count": 9,
   "metadata": {},
   "outputs": [],
   "source": [
    "df.drop(labels=[\"GameID\"], axis=1, inplace=True)"
   ]
  },
  {
   "cell_type": "markdown",
   "metadata": {},
   "source": [
    "Check if there are any NA values in the columns."
   ]
  },
  {
   "cell_type": "code",
   "execution_count": 10,
   "metadata": {
    "collapsed": false,
    "pycharm": {
     "name": "#%%\n"
    }
   },
   "outputs": [
    {
     "data": {
      "text/plain": [
       "LeagueIndex             False\n",
       "Age                     False\n",
       "HoursPerWeek            False\n",
       "TotalHours              False\n",
       "APM                     False\n",
       "SelectByHotkeys         False\n",
       "AssignToHotkeys         False\n",
       "UniqueHotkeys           False\n",
       "MinimapAttacks          False\n",
       "MinimapRightClicks      False\n",
       "NumberOfPACs            False\n",
       "GapBetweenPACs          False\n",
       "ActionLatency           False\n",
       "ActionsInPAC            False\n",
       "TotalMapExplored        False\n",
       "WorkersMade             False\n",
       "UniqueUnitsMade         False\n",
       "ComplexUnitsMade        False\n",
       "ComplexAbilitiesUsed    False\n",
       "dtype: bool"
      ]
     },
     "execution_count": 10,
     "metadata": {},
     "output_type": "execute_result"
    }
   ],
   "source": [
    "df.isna().any(axis=0)"
   ]
  },
  {
   "cell_type": "markdown",
   "metadata": {},
   "source": [
    "Check the datatypes of the columns. We see that \"Age\", \"HoursPerWeek\", and \n",
    "\"TotalHours\" are of Pandas dtype `object`. This means it can hold **any Python object**,\n",
    "including strings. "
   ]
  },
  {
   "cell_type": "code",
   "execution_count": 11,
   "metadata": {
    "collapsed": false,
    "pycharm": {
     "name": "#%%\n"
    }
   },
   "outputs": [
    {
     "data": {
      "text/plain": [
       "LeagueIndex               int64\n",
       "Age                      object\n",
       "HoursPerWeek             object\n",
       "TotalHours               object\n",
       "APM                     float64\n",
       "SelectByHotkeys         float64\n",
       "AssignToHotkeys         float64\n",
       "UniqueHotkeys             int64\n",
       "MinimapAttacks          float64\n",
       "MinimapRightClicks      float64\n",
       "NumberOfPACs            float64\n",
       "GapBetweenPACs          float64\n",
       "ActionLatency           float64\n",
       "ActionsInPAC            float64\n",
       "TotalMapExplored          int64\n",
       "WorkersMade             float64\n",
       "UniqueUnitsMade           int64\n",
       "ComplexUnitsMade        float64\n",
       "ComplexAbilitiesUsed    float64\n",
       "dtype: object"
      ]
     },
     "execution_count": 11,
     "metadata": {},
     "output_type": "execute_result"
    }
   ],
   "source": [
    "df.dtypes"
   ]
  },
  {
   "cell_type": "markdown",
   "metadata": {},
   "source": [
    "Look at the unique values in each column. Here, we see that the three\n",
    "above-mentioned columns consist of numbers that were stored as strings. Also\n",
    "these columns contain the '?' character, which is not valid."
   ]
  },
  {
   "cell_type": "code",
   "execution_count": 12,
   "metadata": {
    "collapsed": false,
    "pycharm": {
     "name": "#%%\n"
    }
   },
   "outputs": [
    {
     "name": "stdout",
     "output_type": "stream",
     "text": [
      "LeagueIndex: [5 4 3 2 1 7 6 8]\n",
      "\n",
      "\n",
      "Age: ['27' '23' '30' '19' '32' '21' '17' '20' '18' '16' '26' '38' '28' '25'\n",
      " '22' '29' '24' '35' '31' '33' '37' '40' '34' '43' '41' '36' '44' '39' '?']\n",
      "\n",
      "\n",
      "HoursPerWeek: ['10' '20' '6' '8' '42' '14' '24' '16' '4' '12' '30' '28' '70' '2' '56'\n",
      " '36' '40' '18' '96' '50' '168' '48' '84' '0' '72' '112' '90' '32' '98'\n",
      " '140' '?' '80' '60']\n",
      "\n",
      "\n",
      "TotalHours: ['3000' '5000' '200' '400' '500' '70' '240' '10000' '2708' '800' '6000'\n",
      " '190' '350' '1000' '1500' '2000' '120' '1100' '2520' '700' '160' '150'\n",
      " '250' '730' '230' '300' '100' '270' '1200' '30' '600' '540' '280' '1600'\n",
      " '50' '140' '900' '550' '625' '1300' '450' '750' '612' '180' '770' '720'\n",
      " '415' '1800' '2200' '480' '430' '639' '360' '1250' '365' '650' '233'\n",
      " '416' '1825' '780' '1260' '315' '10' '312' '110' '1700' '92' '2500'\n",
      " '1400' '220' '999' '303' '96' '184' '4000' '420' '60' '2400' '2160' '80'\n",
      " '25' '624' '176' '?' '35' '1163' '333' '75' '7' '40' '325' '90' '175'\n",
      " '88' '850' '26' '1650' '465' '235' '1350' '460' '848' '256' '130' '1466'\n",
      " '670' '711' '1030' '1080' '1460' '1050' '20000' '582' '2800' '553' '1008'\n",
      " '330' '936' '243' '1320' '425' '1145' '366' '2700' '830' '3' '125' '2300'\n",
      " '336' '24' '12' '72' '690' '320' '144' '20' '1155' '520' '865' '275'\n",
      " '548' '170' '898' '1170' '1148' '105' '575' '1850' '238' '820' '310' '85'\n",
      " '2942' '94' '2100' '224' '165' '577' '1440' '731' '727' '138' '45' '225'\n",
      " '95' '630' '1274' '1782' '610' '525' '2671' '2016' '123' '1095' '1000000'\n",
      " '2920' '640' '1344' '1940' '16' '410' '960' '740' '950' '551' '216' '840'\n",
      " '18000' '745' '530' '477' '1270' '36' '174' '2600' '1256' '9000' '1880'\n",
      " '288' '1150' '10260' '2190' '560' '25000' '128' '666' '854' '370' '65'\n",
      " '334' '755' '1024' '3257' '208' '1196' '1870' '990' '470' '699' '340'\n",
      " '2250' '255' '980' '620' '380' '196' '21' '153' '1098' '546' '433' '1560'\n",
      " '580' '77' '148' '2880' '364' '56']\n",
      "\n",
      "\n",
      "APM: [143.718  129.2322  69.9612 ... 299.4282 375.8664 348.3576]\n",
      "\n",
      "\n",
      "SelectByHotkeys: [0.00351516 0.00330381 0.00110109 ... 0.02834101 0.03643589 0.02985492]\n",
      "\n",
      "\n",
      "AssignToHotkeys: [0.0002197  0.00025946 0.00033557 ... 0.00086022 0.00059427 0.00081117]\n",
      "\n",
      "\n",
      "UniqueHotkeys: [ 7  4  1  2  6  8  3  5 10  0  9]\n",
      "\n",
      "\n",
      "MinimapAttacks: [0.00010985 0.00029406 0.00029362 ... 0.00033794 0.00020428 0.00022377]\n",
      "\n",
      "\n",
      "MinimapRightClicks: [0.00039232 0.00043244 0.00046141 ... 0.00016897 0.00077997 0.00131466]\n",
      "\n",
      "\n",
      "NumberOfPACs: [0.00484904 0.00430706 0.00292575 ... 0.00443932 0.00434557 0.00556633]\n",
      "\n",
      "\n",
      "GapBetweenPACs: [32.6677 32.9194 44.6475 ... 12.4028 11.691  20.0537]\n",
      "\n",
      "\n",
      "ActionLatency: [40.8673 42.3454 75.3548 ... 39.5156 34.8547 33.5142]\n",
      "\n",
      "\n",
      "ActionsInPAC: [4.7508 4.8434 4.043  ... 6.3979 7.9615 6.3719]\n",
      "\n",
      "\n",
      "TotalMapExplored: [28 22 19 15 16 45 29 27 24 21 13 30 23 31 18 36 34 14 41 17 48 11 32 35\n",
      " 10 20 33 25 37 12 26 46  7 50 39  8  9 44  6 43 40 42  5 58 53 38 51 47\n",
      " 52 49 56 55]\n",
      "\n",
      "\n",
      "WorkersMade: [0.0013966  0.0011935  0.00074455 ... 0.0012596  0.00061284 0.0015664 ]\n",
      "\n",
      "\n",
      "UniqueUnitsMade: [ 6  5  7  4  9 10  8 11 12  3  2 13]\n",
      "\n",
      "\n",
      "ComplexUnitsMade: [0.00000000e+00 1.29281200e-04 2.72792300e-04 ... 3.51567993e-05\n",
      " 1.06022100e-04 4.56867900e-04]\n",
      "\n",
      "\n",
      "ComplexAbilitiesUsed: [0.0000e+00 2.0757e-04 1.8876e-04 ... 9.9161e-05 6.3141e-04 8.9509e-04]\n",
      "\n",
      "\n"
     ]
    }
   ],
   "source": [
    "for col in df.columns:\n",
    "    print(f\"{col}: {df[col].unique()}\\n\\n\")"
   ]
  },
  {
   "cell_type": "markdown",
   "metadata": {},
   "source": [
    "Remove the rows from the dataset that contain '?'."
   ]
  },
  {
   "cell_type": "code",
   "execution_count": 13,
   "metadata": {
    "collapsed": false,
    "pycharm": {
     "name": "#%%\n"
    }
   },
   "outputs": [
    {
     "data": {
      "text/plain": [
       "Int64Index([ 358, 1841, 3340, 3341, 3342, 3343, 3344, 3345, 3346, 3347, 3348,\n",
       "            3349, 3350, 3351, 3352, 3353, 3354, 3355, 3356, 3357, 3358, 3359,\n",
       "            3360, 3361, 3362, 3363, 3364, 3365, 3366, 3367, 3368, 3369, 3370,\n",
       "            3371, 3372, 3373, 3374, 3375, 3376, 3377, 3378, 3379, 3380, 3381,\n",
       "            3382, 3383, 3384, 3385, 3386, 3387, 3388, 3389, 3390, 3391, 3392,\n",
       "            3393, 3394],\n",
       "           dtype='int64')"
      ]
     },
     "execution_count": 13,
     "metadata": {},
     "output_type": "execute_result"
    }
   ],
   "source": [
    "index_names = df[(df[\"Age\"] == '?') | (df[\"HoursPerWeek\"] == '?') | (df[\"TotalHours\"] == '?')].index\n",
    "index_names"
   ]
  },
  {
   "cell_type": "code",
   "execution_count": 14,
   "metadata": {
    "collapsed": false,
    "pycharm": {
     "name": "#%%\n"
    }
   },
   "outputs": [],
   "source": [
    "df.drop(index_names, inplace=True)"
   ]
  },
  {
   "cell_type": "markdown",
   "metadata": {},
   "source": [
    "Convert the columns with dtype object to numeric."
   ]
  },
  {
   "cell_type": "code",
   "execution_count": 15,
   "metadata": {},
   "outputs": [
    {
     "data": {
      "text/plain": [
       "LeagueIndex             float64\n",
       "Age                     float64\n",
       "HoursPerWeek            float64\n",
       "TotalHours              float64\n",
       "APM                     float64\n",
       "SelectByHotkeys         float64\n",
       "AssignToHotkeys         float64\n",
       "UniqueHotkeys           float64\n",
       "MinimapAttacks          float64\n",
       "MinimapRightClicks      float64\n",
       "NumberOfPACs            float64\n",
       "GapBetweenPACs          float64\n",
       "ActionLatency           float64\n",
       "ActionsInPAC            float64\n",
       "TotalMapExplored        float64\n",
       "WorkersMade             float64\n",
       "UniqueUnitsMade         float64\n",
       "ComplexUnitsMade        float64\n",
       "ComplexAbilitiesUsed    float64\n",
       "dtype: object"
      ]
     },
     "execution_count": 15,
     "metadata": {},
     "output_type": "execute_result"
    }
   ],
   "source": [
    "df = df.astype(float)\n",
    "df.dtypes\n"
   ]
  },
  {
   "cell_type": "markdown",
   "metadata": {},
   "source": [
    "Filter out rows with unreasonably low or high values for \"HoursPerWeek\"."
   ]
  },
  {
   "cell_type": "code",
   "execution_count": 16,
   "metadata": {},
   "outputs": [
    {
     "data": {
      "text/plain": [
       "3336"
      ]
     },
     "execution_count": 16,
     "metadata": {},
     "output_type": "execute_result"
    }
   ],
   "source": [
    "df.drop(df[df['HoursPerWeek'].isin([0, 168])].index, axis=0, inplace=True)\n",
    "len(df)"
   ]
  },
  {
   "cell_type": "markdown",
   "metadata": {},
   "source": [
    "Here we see that \"TotalHours\" can be smaller than \"HoursPerWeek\". So we drop rows\n",
    "that exhibit this property."
   ]
  },
  {
   "cell_type": "code",
   "execution_count": 17,
   "metadata": {},
   "outputs": [
    {
     "data": {
      "text/html": [
       "<div>\n",
       "<style scoped>\n",
       "    .dataframe tbody tr th:only-of-type {\n",
       "        vertical-align: middle;\n",
       "    }\n",
       "\n",
       "    .dataframe tbody tr th {\n",
       "        vertical-align: top;\n",
       "    }\n",
       "\n",
       "    .dataframe thead th {\n",
       "        text-align: right;\n",
       "    }\n",
       "</style>\n",
       "<table border=\"1\" class=\"dataframe\">\n",
       "  <thead>\n",
       "    <tr style=\"text-align: right;\">\n",
       "      <th></th>\n",
       "      <th>LeagueIndex</th>\n",
       "      <th>Age</th>\n",
       "      <th>HoursPerWeek</th>\n",
       "      <th>TotalHours</th>\n",
       "      <th>APM</th>\n",
       "      <th>SelectByHotkeys</th>\n",
       "      <th>AssignToHotkeys</th>\n",
       "      <th>UniqueHotkeys</th>\n",
       "      <th>MinimapAttacks</th>\n",
       "      <th>MinimapRightClicks</th>\n",
       "      <th>NumberOfPACs</th>\n",
       "      <th>GapBetweenPACs</th>\n",
       "      <th>ActionLatency</th>\n",
       "      <th>ActionsInPAC</th>\n",
       "      <th>TotalMapExplored</th>\n",
       "      <th>WorkersMade</th>\n",
       "      <th>UniqueUnitsMade</th>\n",
       "      <th>ComplexUnitsMade</th>\n",
       "      <th>ComplexAbilitiesUsed</th>\n",
       "    </tr>\n",
       "  </thead>\n",
       "  <tbody>\n",
       "    <tr>\n",
       "      <th>976</th>\n",
       "      <td>3.0</td>\n",
       "      <td>16.0</td>\n",
       "      <td>28.0</td>\n",
       "      <td>3.0</td>\n",
       "      <td>69.5748</td>\n",
       "      <td>0.001016</td>\n",
       "      <td>0.000371</td>\n",
       "      <td>3.0</td>\n",
       "      <td>0.0</td>\n",
       "      <td>0.000239</td>\n",
       "      <td>0.003623</td>\n",
       "      <td>57.3775</td>\n",
       "      <td>69.4389</td>\n",
       "      <td>3.3234</td>\n",
       "      <td>18.0</td>\n",
       "      <td>0.00055</td>\n",
       "      <td>7.0</td>\n",
       "      <td>0.0</td>\n",
       "      <td>0.00049</td>\n",
       "    </tr>\n",
       "  </tbody>\n",
       "</table>\n",
       "</div>"
      ],
      "text/plain": [
       "     LeagueIndex   Age  HoursPerWeek  TotalHours      APM  SelectByHotkeys  \\\n",
       "976          3.0  16.0          28.0         3.0  69.5748         0.001016   \n",
       "\n",
       "     AssignToHotkeys  UniqueHotkeys  MinimapAttacks  MinimapRightClicks  \\\n",
       "976         0.000371            3.0             0.0            0.000239   \n",
       "\n",
       "     NumberOfPACs  GapBetweenPACs  ActionLatency  ActionsInPAC  \\\n",
       "976      0.003623         57.3775        69.4389        3.3234   \n",
       "\n",
       "     TotalMapExplored  WorkersMade  UniqueUnitsMade  ComplexUnitsMade  \\\n",
       "976              18.0      0.00055              7.0               0.0   \n",
       "\n",
       "     ComplexAbilitiesUsed  \n",
       "976               0.00049  "
      ]
     },
     "execution_count": 17,
     "metadata": {},
     "output_type": "execute_result"
    }
   ],
   "source": [
    "df[df['TotalHours'] == 3]\n"
   ]
  },
  {
   "cell_type": "code",
   "execution_count": 18,
   "metadata": {},
   "outputs": [
    {
     "data": {
      "text/html": [
       "<div>\n",
       "<style scoped>\n",
       "    .dataframe tbody tr th:only-of-type {\n",
       "        vertical-align: middle;\n",
       "    }\n",
       "\n",
       "    .dataframe tbody tr th {\n",
       "        vertical-align: top;\n",
       "    }\n",
       "\n",
       "    .dataframe thead th {\n",
       "        text-align: right;\n",
       "    }\n",
       "</style>\n",
       "<table border=\"1\" class=\"dataframe\">\n",
       "  <thead>\n",
       "    <tr style=\"text-align: right;\">\n",
       "      <th></th>\n",
       "      <th>LeagueIndex</th>\n",
       "      <th>Age</th>\n",
       "      <th>HoursPerWeek</th>\n",
       "      <th>TotalHours</th>\n",
       "      <th>APM</th>\n",
       "      <th>SelectByHotkeys</th>\n",
       "      <th>AssignToHotkeys</th>\n",
       "      <th>UniqueHotkeys</th>\n",
       "      <th>MinimapAttacks</th>\n",
       "      <th>MinimapRightClicks</th>\n",
       "      <th>NumberOfPACs</th>\n",
       "      <th>GapBetweenPACs</th>\n",
       "      <th>ActionLatency</th>\n",
       "      <th>ActionsInPAC</th>\n",
       "      <th>TotalMapExplored</th>\n",
       "      <th>WorkersMade</th>\n",
       "      <th>UniqueUnitsMade</th>\n",
       "      <th>ComplexUnitsMade</th>\n",
       "      <th>ComplexAbilitiesUsed</th>\n",
       "    </tr>\n",
       "  </thead>\n",
       "  <tbody>\n",
       "    <tr>\n",
       "      <th>0</th>\n",
       "      <td>5.0</td>\n",
       "      <td>27.0</td>\n",
       "      <td>10.0</td>\n",
       "      <td>3000.0</td>\n",
       "      <td>143.7180</td>\n",
       "      <td>0.003515</td>\n",
       "      <td>0.000220</td>\n",
       "      <td>7.0</td>\n",
       "      <td>0.000110</td>\n",
       "      <td>0.000392</td>\n",
       "      <td>0.004849</td>\n",
       "      <td>32.6677</td>\n",
       "      <td>40.8673</td>\n",
       "      <td>4.7508</td>\n",
       "      <td>28.0</td>\n",
       "      <td>0.001397</td>\n",
       "      <td>6.0</td>\n",
       "      <td>0.0</td>\n",
       "      <td>0.000000</td>\n",
       "    </tr>\n",
       "    <tr>\n",
       "      <th>1</th>\n",
       "      <td>5.0</td>\n",
       "      <td>23.0</td>\n",
       "      <td>10.0</td>\n",
       "      <td>5000.0</td>\n",
       "      <td>129.2322</td>\n",
       "      <td>0.003304</td>\n",
       "      <td>0.000259</td>\n",
       "      <td>4.0</td>\n",
       "      <td>0.000294</td>\n",
       "      <td>0.000432</td>\n",
       "      <td>0.004307</td>\n",
       "      <td>32.9194</td>\n",
       "      <td>42.3454</td>\n",
       "      <td>4.8434</td>\n",
       "      <td>22.0</td>\n",
       "      <td>0.001193</td>\n",
       "      <td>5.0</td>\n",
       "      <td>0.0</td>\n",
       "      <td>0.000208</td>\n",
       "    </tr>\n",
       "    <tr>\n",
       "      <th>2</th>\n",
       "      <td>4.0</td>\n",
       "      <td>30.0</td>\n",
       "      <td>10.0</td>\n",
       "      <td>200.0</td>\n",
       "      <td>69.9612</td>\n",
       "      <td>0.001101</td>\n",
       "      <td>0.000336</td>\n",
       "      <td>4.0</td>\n",
       "      <td>0.000294</td>\n",
       "      <td>0.000461</td>\n",
       "      <td>0.002926</td>\n",
       "      <td>44.6475</td>\n",
       "      <td>75.3548</td>\n",
       "      <td>4.0430</td>\n",
       "      <td>22.0</td>\n",
       "      <td>0.000745</td>\n",
       "      <td>6.0</td>\n",
       "      <td>0.0</td>\n",
       "      <td>0.000189</td>\n",
       "    </tr>\n",
       "    <tr>\n",
       "      <th>3</th>\n",
       "      <td>3.0</td>\n",
       "      <td>19.0</td>\n",
       "      <td>20.0</td>\n",
       "      <td>400.0</td>\n",
       "      <td>107.6016</td>\n",
       "      <td>0.001034</td>\n",
       "      <td>0.000213</td>\n",
       "      <td>1.0</td>\n",
       "      <td>0.000053</td>\n",
       "      <td>0.000543</td>\n",
       "      <td>0.003783</td>\n",
       "      <td>29.2203</td>\n",
       "      <td>53.7352</td>\n",
       "      <td>4.9155</td>\n",
       "      <td>19.0</td>\n",
       "      <td>0.000426</td>\n",
       "      <td>7.0</td>\n",
       "      <td>0.0</td>\n",
       "      <td>0.000384</td>\n",
       "    </tr>\n",
       "    <tr>\n",
       "      <th>4</th>\n",
       "      <td>3.0</td>\n",
       "      <td>32.0</td>\n",
       "      <td>10.0</td>\n",
       "      <td>500.0</td>\n",
       "      <td>122.8908</td>\n",
       "      <td>0.001136</td>\n",
       "      <td>0.000327</td>\n",
       "      <td>2.0</td>\n",
       "      <td>0.000000</td>\n",
       "      <td>0.001329</td>\n",
       "      <td>0.002368</td>\n",
       "      <td>22.6885</td>\n",
       "      <td>62.0813</td>\n",
       "      <td>9.3740</td>\n",
       "      <td>15.0</td>\n",
       "      <td>0.001174</td>\n",
       "      <td>4.0</td>\n",
       "      <td>0.0</td>\n",
       "      <td>0.000019</td>\n",
       "    </tr>\n",
       "    <tr>\n",
       "      <th>...</th>\n",
       "      <td>...</td>\n",
       "      <td>...</td>\n",
       "      <td>...</td>\n",
       "      <td>...</td>\n",
       "      <td>...</td>\n",
       "      <td>...</td>\n",
       "      <td>...</td>\n",
       "      <td>...</td>\n",
       "      <td>...</td>\n",
       "      <td>...</td>\n",
       "      <td>...</td>\n",
       "      <td>...</td>\n",
       "      <td>...</td>\n",
       "      <td>...</td>\n",
       "      <td>...</td>\n",
       "      <td>...</td>\n",
       "      <td>...</td>\n",
       "      <td>...</td>\n",
       "      <td>...</td>\n",
       "    </tr>\n",
       "    <tr>\n",
       "      <th>3335</th>\n",
       "      <td>4.0</td>\n",
       "      <td>20.0</td>\n",
       "      <td>8.0</td>\n",
       "      <td>400.0</td>\n",
       "      <td>158.1390</td>\n",
       "      <td>0.013829</td>\n",
       "      <td>0.000504</td>\n",
       "      <td>7.0</td>\n",
       "      <td>0.000217</td>\n",
       "      <td>0.000313</td>\n",
       "      <td>0.003583</td>\n",
       "      <td>36.3990</td>\n",
       "      <td>66.2718</td>\n",
       "      <td>4.5097</td>\n",
       "      <td>30.0</td>\n",
       "      <td>0.001035</td>\n",
       "      <td>7.0</td>\n",
       "      <td>0.0</td>\n",
       "      <td>0.000287</td>\n",
       "    </tr>\n",
       "    <tr>\n",
       "      <th>3336</th>\n",
       "      <td>5.0</td>\n",
       "      <td>16.0</td>\n",
       "      <td>56.0</td>\n",
       "      <td>1500.0</td>\n",
       "      <td>186.1320</td>\n",
       "      <td>0.006951</td>\n",
       "      <td>0.000360</td>\n",
       "      <td>6.0</td>\n",
       "      <td>0.000083</td>\n",
       "      <td>0.000166</td>\n",
       "      <td>0.005414</td>\n",
       "      <td>22.8615</td>\n",
       "      <td>34.7417</td>\n",
       "      <td>4.9309</td>\n",
       "      <td>38.0</td>\n",
       "      <td>0.001343</td>\n",
       "      <td>7.0</td>\n",
       "      <td>0.0</td>\n",
       "      <td>0.000388</td>\n",
       "    </tr>\n",
       "    <tr>\n",
       "      <th>3337</th>\n",
       "      <td>4.0</td>\n",
       "      <td>21.0</td>\n",
       "      <td>8.0</td>\n",
       "      <td>100.0</td>\n",
       "      <td>121.6992</td>\n",
       "      <td>0.002956</td>\n",
       "      <td>0.000241</td>\n",
       "      <td>8.0</td>\n",
       "      <td>0.000055</td>\n",
       "      <td>0.000208</td>\n",
       "      <td>0.003690</td>\n",
       "      <td>35.5833</td>\n",
       "      <td>57.9585</td>\n",
       "      <td>5.4154</td>\n",
       "      <td>23.0</td>\n",
       "      <td>0.002014</td>\n",
       "      <td>7.0</td>\n",
       "      <td>0.0</td>\n",
       "      <td>0.000000</td>\n",
       "    </tr>\n",
       "    <tr>\n",
       "      <th>3338</th>\n",
       "      <td>3.0</td>\n",
       "      <td>20.0</td>\n",
       "      <td>28.0</td>\n",
       "      <td>400.0</td>\n",
       "      <td>134.2848</td>\n",
       "      <td>0.005424</td>\n",
       "      <td>0.000182</td>\n",
       "      <td>5.0</td>\n",
       "      <td>0.000000</td>\n",
       "      <td>0.000480</td>\n",
       "      <td>0.003205</td>\n",
       "      <td>18.2927</td>\n",
       "      <td>62.4615</td>\n",
       "      <td>6.0202</td>\n",
       "      <td>18.0</td>\n",
       "      <td>0.000934</td>\n",
       "      <td>5.0</td>\n",
       "      <td>0.0</td>\n",
       "      <td>0.000000</td>\n",
       "    </tr>\n",
       "    <tr>\n",
       "      <th>3339</th>\n",
       "      <td>4.0</td>\n",
       "      <td>22.0</td>\n",
       "      <td>6.0</td>\n",
       "      <td>400.0</td>\n",
       "      <td>88.8246</td>\n",
       "      <td>0.000844</td>\n",
       "      <td>0.000108</td>\n",
       "      <td>2.0</td>\n",
       "      <td>0.000000</td>\n",
       "      <td>0.000341</td>\n",
       "      <td>0.003099</td>\n",
       "      <td>45.1512</td>\n",
       "      <td>63.4435</td>\n",
       "      <td>5.1913</td>\n",
       "      <td>20.0</td>\n",
       "      <td>0.000476</td>\n",
       "      <td>8.0</td>\n",
       "      <td>0.0</td>\n",
       "      <td>0.000054</td>\n",
       "    </tr>\n",
       "  </tbody>\n",
       "</table>\n",
       "<p>3329 rows × 19 columns</p>\n",
       "</div>"
      ],
      "text/plain": [
       "      LeagueIndex   Age  HoursPerWeek  TotalHours       APM  SelectByHotkeys  \\\n",
       "0             5.0  27.0          10.0      3000.0  143.7180         0.003515   \n",
       "1             5.0  23.0          10.0      5000.0  129.2322         0.003304   \n",
       "2             4.0  30.0          10.0       200.0   69.9612         0.001101   \n",
       "3             3.0  19.0          20.0       400.0  107.6016         0.001034   \n",
       "4             3.0  32.0          10.0       500.0  122.8908         0.001136   \n",
       "...           ...   ...           ...         ...       ...              ...   \n",
       "3335          4.0  20.0           8.0       400.0  158.1390         0.013829   \n",
       "3336          5.0  16.0          56.0      1500.0  186.1320         0.006951   \n",
       "3337          4.0  21.0           8.0       100.0  121.6992         0.002956   \n",
       "3338          3.0  20.0          28.0       400.0  134.2848         0.005424   \n",
       "3339          4.0  22.0           6.0       400.0   88.8246         0.000844   \n",
       "\n",
       "      AssignToHotkeys  UniqueHotkeys  MinimapAttacks  MinimapRightClicks  \\\n",
       "0            0.000220            7.0        0.000110            0.000392   \n",
       "1            0.000259            4.0        0.000294            0.000432   \n",
       "2            0.000336            4.0        0.000294            0.000461   \n",
       "3            0.000213            1.0        0.000053            0.000543   \n",
       "4            0.000327            2.0        0.000000            0.001329   \n",
       "...               ...            ...             ...                 ...   \n",
       "3335         0.000504            7.0        0.000217            0.000313   \n",
       "3336         0.000360            6.0        0.000083            0.000166   \n",
       "3337         0.000241            8.0        0.000055            0.000208   \n",
       "3338         0.000182            5.0        0.000000            0.000480   \n",
       "3339         0.000108            2.0        0.000000            0.000341   \n",
       "\n",
       "      NumberOfPACs  GapBetweenPACs  ActionLatency  ActionsInPAC  \\\n",
       "0         0.004849         32.6677        40.8673        4.7508   \n",
       "1         0.004307         32.9194        42.3454        4.8434   \n",
       "2         0.002926         44.6475        75.3548        4.0430   \n",
       "3         0.003783         29.2203        53.7352        4.9155   \n",
       "4         0.002368         22.6885        62.0813        9.3740   \n",
       "...            ...             ...            ...           ...   \n",
       "3335      0.003583         36.3990        66.2718        4.5097   \n",
       "3336      0.005414         22.8615        34.7417        4.9309   \n",
       "3337      0.003690         35.5833        57.9585        5.4154   \n",
       "3338      0.003205         18.2927        62.4615        6.0202   \n",
       "3339      0.003099         45.1512        63.4435        5.1913   \n",
       "\n",
       "      TotalMapExplored  WorkersMade  UniqueUnitsMade  ComplexUnitsMade  \\\n",
       "0                 28.0     0.001397              6.0               0.0   \n",
       "1                 22.0     0.001193              5.0               0.0   \n",
       "2                 22.0     0.000745              6.0               0.0   \n",
       "3                 19.0     0.000426              7.0               0.0   \n",
       "4                 15.0     0.001174              4.0               0.0   \n",
       "...                ...          ...              ...               ...   \n",
       "3335              30.0     0.001035              7.0               0.0   \n",
       "3336              38.0     0.001343              7.0               0.0   \n",
       "3337              23.0     0.002014              7.0               0.0   \n",
       "3338              18.0     0.000934              5.0               0.0   \n",
       "3339              20.0     0.000476              8.0               0.0   \n",
       "\n",
       "      ComplexAbilitiesUsed  \n",
       "0                 0.000000  \n",
       "1                 0.000208  \n",
       "2                 0.000189  \n",
       "3                 0.000384  \n",
       "4                 0.000019  \n",
       "...                    ...  \n",
       "3335              0.000287  \n",
       "3336              0.000388  \n",
       "3337              0.000000  \n",
       "3338              0.000000  \n",
       "3339              0.000054  \n",
       "\n",
       "[3329 rows x 19 columns]"
      ]
     },
     "execution_count": 18,
     "metadata": {},
     "output_type": "execute_result"
    }
   ],
   "source": [
    "idx = df[df['HoursPerWeek'] > df['TotalHours']].index\n",
    "df.drop(idx, axis=0, inplace=True)\n",
    "df"
   ]
  },
  {
   "cell_type": "markdown",
   "metadata": {},
   "source": [
    "Split dataset in data and target part. Also convert the pandas Dataframe to a NumPy array."
   ]
  },
  {
   "cell_type": "code",
   "execution_count": 19,
   "metadata": {},
   "outputs": [],
   "source": [
    "data = df.loc[:, df.columns != \"APM\"].to_numpy()\n",
    "target = df[\"APM\"].to_numpy()\n"
   ]
  },
  {
   "cell_type": "code",
   "execution_count": 20,
   "metadata": {},
   "outputs": [],
   "source": [
    "data_file = \"data.pt\"\n",
    "with open(os.path.join(processed_folder, data_file), 'wb') as f:\n",
    "    torch.save(data, f)"
   ]
  },
  {
   "cell_type": "code",
   "execution_count": 21,
   "metadata": {},
   "outputs": [],
   "source": [
    "target_file = \"target.pt\"\n",
    "with open(os.path.join(processed_folder, target_file), 'wb') as f:\n",
    "    torch.save(target, f)"
   ]
  },
  {
   "cell_type": "code",
   "execution_count": 23,
   "metadata": {},
   "outputs": [
    {
     "data": {
      "text/plain": [
       "array([[5.0000e+00, 2.7000e+01, 1.0000e+01, ..., 6.0000e+00, 0.0000e+00,\n",
       "        0.0000e+00],\n",
       "       [5.0000e+00, 2.3000e+01, 1.0000e+01, ..., 5.0000e+00, 0.0000e+00,\n",
       "        2.0757e-04],\n",
       "       [4.0000e+00, 3.0000e+01, 1.0000e+01, ..., 6.0000e+00, 0.0000e+00,\n",
       "        1.8876e-04],\n",
       "       ...,\n",
       "       [4.0000e+00, 2.1000e+01, 8.0000e+00, ..., 7.0000e+00, 0.0000e+00,\n",
       "        0.0000e+00],\n",
       "       [3.0000e+00, 2.0000e+01, 2.8000e+01, ..., 5.0000e+00, 0.0000e+00,\n",
       "        0.0000e+00],\n",
       "       [4.0000e+00, 2.2000e+01, 6.0000e+00, ..., 8.0000e+00, 0.0000e+00,\n",
       "        5.3891e-05]])"
      ]
     },
     "execution_count": 23,
     "metadata": {},
     "output_type": "execute_result"
    }
   ],
   "source": [
    "torch.load(os.path.join(processed_folder, data_file))"
   ]
  },
  {
   "cell_type": "code",
   "execution_count": null,
   "metadata": {},
   "outputs": [],
   "source": []
  },
  {
   "cell_type": "markdown",
   "metadata": {},
   "source": [
    "Load the data from the SSDKL paper."
   ]
  },
  {
   "cell_type": "code",
   "execution_count": 24,
   "metadata": {},
   "outputs": [],
   "source": [
    "ssdkl_folder = \"/home/flo/ssdgm/notebooks/datasets/SSDKL/skillcraft\"\n",
    "X = np.load(os.path.join(ssdkl_folder, \"X.npy\"))\n",
    "y = np.load(os.path.join(ssdkl_folder, \"y.npy\"))"
   ]
  },
  {
   "cell_type": "code",
   "execution_count": 26,
   "metadata": {},
   "outputs": [
    {
     "data": {
      "text/plain": [
       "array([-1.33150339, -0.63835621, -0.2328911 ,  0.05479097,  0.27793452,\n",
       "        0.46025608,  0.61440676])"
      ]
     },
     "execution_count": 26,
     "metadata": {},
     "output_type": "execute_result"
    }
   ],
   "source": [
    "np.unique(y)"
   ]
  },
  {
   "cell_type": "code",
   "execution_count": 35,
   "metadata": {},
   "outputs": [
    {
     "data": {
      "text/plain": [
       "((5875, 20), (5875,))"
      ]
     },
     "execution_count": 35,
     "metadata": {},
     "output_type": "execute_result"
    }
   ],
   "source": [
    "X.shape, y.shape"
   ]
  },
  {
   "cell_type": "code",
   "execution_count": 36,
   "metadata": {},
   "outputs": [],
   "source": [
    "scaler = StandardScaler()\n",
    "scaler.fit(data)\n",
    "scaled_data = scaler.transform(data)"
   ]
  },
  {
   "cell_type": "code",
   "execution_count": 37,
   "metadata": {},
   "outputs": [
    {
     "name": "stdout",
     "output_type": "stream",
     "text": [
      "There are 7 different values in the 'LeagueIndex' column\n"
     ]
    }
   ],
   "source": [
    "values = len(pd.unique(df[\"LeagueIndex\"]))\n",
    "print(f\"There are {values} different values in the 'LeagueIndex' column\")"
   ]
  },
  {
   "cell_type": "code",
   "execution_count": 27,
   "metadata": {},
   "outputs": [
    {
     "name": "stdout",
     "output_type": "stream",
     "text": [
      "There are 7 different values in the SSDKL target.\n"
     ]
    }
   ],
   "source": [
    "print(f\"There are {len(np.unique(y))} different values in the SSDKL target.\")"
   ]
  },
  {
   "cell_type": "code",
   "execution_count": 39,
   "metadata": {},
   "outputs": [
    {
     "data": {
      "text/plain": [
       "array([-2.16226904, -1.47020158, -0.77813412, -0.08606666,  0.60600079,\n",
       "        1.29806825,  1.99013571])"
      ]
     },
     "execution_count": 39,
     "metadata": {},
     "output_type": "execute_result"
    }
   ],
   "source": [
    "np.unique(scaled_data[:, 0])"
   ]
  },
  {
   "cell_type": "code",
   "execution_count": 40,
   "metadata": {},
   "outputs": [
    {
     "data": {
      "text/plain": [
       "array([ 0.60600079,  0.60600079, -0.08606666, -0.77813412, -0.77813412,\n",
       "       -1.47020158, -2.16226904,  1.99013571, -0.08606666, -0.08606666])"
      ]
     },
     "execution_count": 40,
     "metadata": {},
     "output_type": "execute_result"
    }
   ],
   "source": [
    "scaled_data[:10, 0]"
   ]
  },
  {
   "cell_type": "code",
   "execution_count": 41,
   "metadata": {},
   "outputs": [
    {
     "data": {
      "text/plain": [
       "0    5.0\n",
       "1    5.0\n",
       "2    4.0\n",
       "3    3.0\n",
       "4    3.0\n",
       "5    2.0\n",
       "6    1.0\n",
       "7    7.0\n",
       "8    4.0\n",
       "9    4.0\n",
       "Name: LeagueIndex, dtype: float64"
      ]
     },
     "execution_count": 41,
     "metadata": {},
     "output_type": "execute_result"
    }
   ],
   "source": [
    "df[\"LeagueIndex\"][:10]"
   ]
  },
  {
   "cell_type": "code",
   "execution_count": null,
   "metadata": {},
   "outputs": [],
   "source": []
  }
 ],
 "metadata": {
  "interpreter": {
   "hash": "0a2203ed669433b5d3bd33c0d47dbc4f5122e298d03ea49763f0cabe7316dc83"
  },
  "kernelspec": {
   "display_name": "PyCharm (semi-supervised-deep-generative-models-for-regression)",
   "language": "python",
   "name": "python3"
  },
  "language_info": {
   "codemirror_mode": {
    "name": "ipython",
    "version": 3
   },
   "file_extension": ".py",
   "mimetype": "text/x-python",
   "name": "python",
   "nbconvert_exporter": "python",
   "pygments_lexer": "ipython3",
   "version": "3.8.12"
  }
 },
 "nbformat": 4,
 "nbformat_minor": 1
}
