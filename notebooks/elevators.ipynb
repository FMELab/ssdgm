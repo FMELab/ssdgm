{
 "cells": [
  {
   "cell_type": "markdown",
   "metadata": {},
   "source": [
    "# Data Exploration for Elevators dataset"
   ]
  },
  {
   "cell_type": "code",
   "execution_count": 7,
   "metadata": {},
   "outputs": [],
   "source": [
    "import numpy as np\n",
    "import pandas as pd\n",
    "import os\n",
    "\n",
    "from torchvision.datasets.utils import download_and_extract_archive\n",
    "from sklearn.preprocessing import StandardScaler"
   ]
  },
  {
   "cell_type": "markdown",
   "metadata": {},
   "source": [
    "## Elevators dataset from SSDKL paper"
   ]
  },
  {
   "cell_type": "code",
   "execution_count": 8,
   "metadata": {},
   "outputs": [],
   "source": [
    "def load_dataset_from_ssdkl(path_to_folder):\n",
    "    X = np.load(os.path.join(path_to_folder, \"X.npy\"))\n",
    "    y = np.load(os.path.join(path_to_folder, \"y.npy\"))\n",
    "\n",
    "    return X, y\n"
   ]
  },
  {
   "cell_type": "code",
   "execution_count": 9,
   "metadata": {},
   "outputs": [],
   "source": [
    "PATH_TO_DATASET = \"/home/flo/ssdgm/notebooks/datasets/SSDKL/elevators\"\n",
    "X_ssdkl, y_ssdkl = load_dataset_from_ssdkl(PATH_TO_DATASET)\n",
    "X_ssdkl.shape, y_ssdkl.shape"
   ]
  },
  {
   "cell_type": "markdown",
   "metadata": {},
   "source": [
    "## Elevators dataset from UCI repo"
   ]
  },
  {
   "cell_type": "code",
   "execution_count": 12,
   "metadata": {},
   "outputs": [],
   "source": [
    "URL = \"https://www.dcc.fc.up.pt/~ltorgo/Regression/elevators.tgz\"\n",
    "RAW_FOLDER = \"/home/flo/ssdgm/notebooks/datasets/UCI/Elevators/raw\""
   ]
  },
  {
   "cell_type": "code",
   "execution_count": 13,
   "metadata": {},
   "outputs": [
    {
     "name": "stdout",
     "output_type": "stream",
     "text": [
      "Using downloaded and verified file: /home/flo/ssdgm/notebooks/datasets/UCI/Elevators/raw/elevators.tgz\n",
      "Extracting /home/flo/ssdgm/notebooks/datasets/UCI/Elevators/raw/elevators.tgz to /home/flo/ssdgm/notebooks/datasets/UCI/Elevators/raw\n"
     ]
    }
   ],
   "source": [
    "download_and_extract_archive(url=URL, download_root=RAW_FOLDER, remove_finished=True)"
   ]
  },
  {
   "cell_type": "code",
   "execution_count": 14,
   "metadata": {},
   "outputs": [],
   "source": [
    "os.remove(os.path.join(RAW_FOLDER, os.path.basename(URL)))"
   ]
  },
  {
   "cell_type": "code",
   "execution_count": 15,
   "metadata": {},
   "outputs": [],
   "source": [
    "DATA_DIR = os.path.join(RAW_FOLDER, \"Elevators\")"
   ]
  },
  {
   "cell_type": "code",
   "execution_count": 16,
   "metadata": {},
   "outputs": [
    {
     "name": "stdout",
     "output_type": "stream",
     "text": [
      "/home/flo/ssdgm/notebooks/datasets/UCI/Elevators/raw/Elevators/elevators.data /home/flo/ssdgm/notebooks/datasets/UCI/Elevators/raw/Elevators/elevators.test /home/flo/ssdgm/notebooks/datasets/UCI/Elevators/raw/Elevators/elevators.domain\n"
     ]
    }
   ],
   "source": [
    "FILENAME = os.path.basename(URL).split('.')[0]\n",
    "\n",
    "DATAFILE = os.path.join(DATA_DIR, FILENAME + \".data\")\n",
    "TESTFILE = os.path.join(DATA_DIR, FILENAME + \".test\")\n",
    "DOMAINFILE = os.path.join(DATA_DIR, FILENAME + \".domain\")\n",
    "\n",
    "print(DATAFILE, TESTFILE, DOMAINFILE)"
   ]
  },
  {
   "cell_type": "code",
   "execution_count": 17,
   "metadata": {},
   "outputs": [],
   "source": [
    "df_domain = pd.read_csv(DOMAINFILE, header=None)\n"
   ]
  },
  {
   "cell_type": "code",
   "execution_count": 18,
   "metadata": {},
   "outputs": [],
   "source": [
    "col_names = df_domain[0].apply(lambda col: str.split(col, ':')[0])"
   ]
  },
  {
   "cell_type": "code",
   "execution_count": 139,
   "metadata": {},
   "outputs": [
    {
     "data": {
      "text/html": [
       "<div>\n",
       "<style scoped>\n",
       "    .dataframe tbody tr th:only-of-type {\n",
       "        vertical-align: middle;\n",
       "    }\n",
       "\n",
       "    .dataframe tbody tr th {\n",
       "        vertical-align: top;\n",
       "    }\n",
       "\n",
       "    .dataframe thead th {\n",
       "        text-align: right;\n",
       "    }\n",
       "</style>\n",
       "<table border=\"1\" class=\"dataframe\">\n",
       "  <thead>\n",
       "    <tr style=\"text-align: right;\">\n",
       "      <th></th>\n",
       "      <th>climbRate</th>\n",
       "      <th>Sgz</th>\n",
       "      <th>p</th>\n",
       "      <th>q</th>\n",
       "      <th>curRoll</th>\n",
       "      <th>absRoll</th>\n",
       "      <th>diffClb</th>\n",
       "      <th>diffRollRate</th>\n",
       "      <th>diffDiffClb</th>\n",
       "      <th>SaTime1</th>\n",
       "      <th>SaTime2</th>\n",
       "      <th>SaTime3</th>\n",
       "      <th>SaTime4</th>\n",
       "      <th>diffSaTime1</th>\n",
       "      <th>diffSaTime2</th>\n",
       "      <th>diffSaTime3</th>\n",
       "      <th>diffSaTime4</th>\n",
       "      <th>Sa</th>\n",
       "      <th>Goal</th>\n",
       "    </tr>\n",
       "  </thead>\n",
       "  <tbody>\n",
       "    <tr>\n",
       "      <th>0</th>\n",
       "      <td>118</td>\n",
       "      <td>-55</td>\n",
       "      <td>-0.28</td>\n",
       "      <td>-0.08</td>\n",
       "      <td>-0.2</td>\n",
       "      <td>-11</td>\n",
       "      <td>11</td>\n",
       "      <td>0.005</td>\n",
       "      <td>-0.2</td>\n",
       "      <td>-0.0010</td>\n",
       "      <td>-0.0010</td>\n",
       "      <td>-0.0010</td>\n",
       "      <td>-0.0010</td>\n",
       "      <td>0.0000</td>\n",
       "      <td>0.0</td>\n",
       "      <td>0.0</td>\n",
       "      <td>0.0</td>\n",
       "      <td>-0.0010</td>\n",
       "      <td>0.031</td>\n",
       "    </tr>\n",
       "    <tr>\n",
       "      <th>1</th>\n",
       "      <td>390</td>\n",
       "      <td>-45</td>\n",
       "      <td>-0.06</td>\n",
       "      <td>-0.07</td>\n",
       "      <td>-0.6</td>\n",
       "      <td>-12</td>\n",
       "      <td>11</td>\n",
       "      <td>0.010</td>\n",
       "      <td>-0.2</td>\n",
       "      <td>-0.0008</td>\n",
       "      <td>-0.0008</td>\n",
       "      <td>-0.0008</td>\n",
       "      <td>-0.0008</td>\n",
       "      <td>0.0000</td>\n",
       "      <td>0.0</td>\n",
       "      <td>0.0</td>\n",
       "      <td>0.0</td>\n",
       "      <td>-0.0008</td>\n",
       "      <td>0.034</td>\n",
       "    </tr>\n",
       "    <tr>\n",
       "      <th>2</th>\n",
       "      <td>68</td>\n",
       "      <td>6</td>\n",
       "      <td>0.11</td>\n",
       "      <td>0.15</td>\n",
       "      <td>0.6</td>\n",
       "      <td>-10</td>\n",
       "      <td>-9</td>\n",
       "      <td>-0.003</td>\n",
       "      <td>-0.2</td>\n",
       "      <td>-0.0011</td>\n",
       "      <td>-0.0010</td>\n",
       "      <td>-0.0010</td>\n",
       "      <td>-0.0010</td>\n",
       "      <td>-0.0002</td>\n",
       "      <td>0.0</td>\n",
       "      <td>0.0</td>\n",
       "      <td>0.0</td>\n",
       "      <td>-0.0010</td>\n",
       "      <td>0.033</td>\n",
       "    </tr>\n",
       "    <tr>\n",
       "      <th>3</th>\n",
       "      <td>-358</td>\n",
       "      <td>-12</td>\n",
       "      <td>-0.20</td>\n",
       "      <td>0.13</td>\n",
       "      <td>-0.3</td>\n",
       "      <td>-11</td>\n",
       "      <td>-7</td>\n",
       "      <td>0.001</td>\n",
       "      <td>-0.1</td>\n",
       "      <td>-0.0010</td>\n",
       "      <td>-0.0010</td>\n",
       "      <td>-0.0010</td>\n",
       "      <td>-0.0010</td>\n",
       "      <td>0.0000</td>\n",
       "      <td>0.0</td>\n",
       "      <td>0.0</td>\n",
       "      <td>0.0</td>\n",
       "      <td>-0.0010</td>\n",
       "      <td>0.032</td>\n",
       "    </tr>\n",
       "    <tr>\n",
       "      <th>4</th>\n",
       "      <td>-411</td>\n",
       "      <td>-19</td>\n",
       "      <td>-0.18</td>\n",
       "      <td>0.02</td>\n",
       "      <td>-0.5</td>\n",
       "      <td>-11</td>\n",
       "      <td>-3</td>\n",
       "      <td>0.002</td>\n",
       "      <td>1.2</td>\n",
       "      <td>-0.0010</td>\n",
       "      <td>-0.0010</td>\n",
       "      <td>-0.0010</td>\n",
       "      <td>-0.0010</td>\n",
       "      <td>0.0000</td>\n",
       "      <td>0.0</td>\n",
       "      <td>0.0</td>\n",
       "      <td>0.0</td>\n",
       "      <td>-0.0010</td>\n",
       "      <td>0.030</td>\n",
       "    </tr>\n",
       "  </tbody>\n",
       "</table>\n",
       "</div>"
      ],
      "text/plain": [
       "   climbRate  Sgz     p     q  curRoll  absRoll  diffClb  diffRollRate  \\\n",
       "0        118  -55 -0.28 -0.08     -0.2      -11       11         0.005   \n",
       "1        390  -45 -0.06 -0.07     -0.6      -12       11         0.010   \n",
       "2         68    6  0.11  0.15      0.6      -10       -9        -0.003   \n",
       "3       -358  -12 -0.20  0.13     -0.3      -11       -7         0.001   \n",
       "4       -411  -19 -0.18  0.02     -0.5      -11       -3         0.002   \n",
       "\n",
       "   diffDiffClb  SaTime1  SaTime2  SaTime3  SaTime4  diffSaTime1  diffSaTime2  \\\n",
       "0         -0.2  -0.0010  -0.0010  -0.0010  -0.0010       0.0000          0.0   \n",
       "1         -0.2  -0.0008  -0.0008  -0.0008  -0.0008       0.0000          0.0   \n",
       "2         -0.2  -0.0011  -0.0010  -0.0010  -0.0010      -0.0002          0.0   \n",
       "3         -0.1  -0.0010  -0.0010  -0.0010  -0.0010       0.0000          0.0   \n",
       "4          1.2  -0.0010  -0.0010  -0.0010  -0.0010       0.0000          0.0   \n",
       "\n",
       "   diffSaTime3  diffSaTime4      Sa   Goal  \n",
       "0          0.0          0.0 -0.0010  0.031  \n",
       "1          0.0          0.0 -0.0008  0.034  \n",
       "2          0.0          0.0 -0.0010  0.033  \n",
       "3          0.0          0.0 -0.0010  0.032  \n",
       "4          0.0          0.0 -0.0010  0.030  "
      ]
     },
     "execution_count": 139,
     "metadata": {},
     "output_type": "execute_result"
    }
   ],
   "source": [
    "df_data = pd.read_csv(DATAFILE, names=col_names)\n",
    "df_test = pd.read_csv(TESTFILE, names=col_names)\n",
    "df_combined = pd.concat([df_data, df_test], axis=0)\n",
    "df_combined.head()"
   ]
  },
  {
   "cell_type": "markdown",
   "metadata": {},
   "source": [
    "## Conclusion"
   ]
  },
  {
   "cell_type": "markdown",
   "metadata": {},
   "source": [
    "- use `Goal` as target variable\n",
    "- no cleaning steps necessary"
   ]
  },
  {
   "cell_type": "markdown",
   "metadata": {},
   "source": []
  }
 ],
 "metadata": {
  "interpreter": {
   "hash": "0a2203ed669433b5d3bd33c0d47dbc4f5122e298d03ea49763f0cabe7316dc83"
  },
  "kernelspec": {
   "display_name": "Python 3.8.12 ('ssdgm')",
   "language": "python",
   "name": "python3"
  },
  "language_info": {
   "codemirror_mode": {
    "name": "ipython",
    "version": 3
   },
   "file_extension": ".py",
   "mimetype": "text/x-python",
   "name": "python",
   "nbconvert_exporter": "python",
   "pygments_lexer": "ipython3",
   "version": "3.8.12"
  },
  "orig_nbformat": 4
 },
 "nbformat": 4,
 "nbformat_minor": 2
}
