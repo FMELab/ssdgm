{
 "cells": [
  {
   "cell_type": "markdown",
   "metadata": {},
   "source": [
    "# Data Exploration for Buzz dataset"
   ]
  },
  {
   "cell_type": "code",
   "execution_count": 1,
   "metadata": {},
   "outputs": [],
   "source": [
    "import numpy as np\n",
    "import pandas as pd\n",
    "import os\n",
    "\n",
    "from torchvision.datasets.utils import download_url, download_and_extract_archive\n",
    "from sklearn.preprocessing import StandardScaler\n",
    "from sklearn.model_selection import train_test_split"
   ]
  },
  {
   "cell_type": "markdown",
   "metadata": {},
   "source": [
    "## `Buzz` from `SSDKL`"
   ]
  },
  {
   "cell_type": "code",
   "execution_count": 2,
   "metadata": {},
   "outputs": [
    {
     "data": {
      "text/plain": [
       "((583250, 77), (583250,))"
      ]
     },
     "execution_count": 2,
     "metadata": {},
     "output_type": "execute_result"
    }
   ],
   "source": [
    "def load_dataset_from_ssdkl(path_to_folder):\n",
    "    X = np.load(os.path.join(path_to_folder, \"X.npy\"))\n",
    "    y = np.load(os.path.join(path_to_folder, \"y.npy\"))\n",
    "\n",
    "    return X, y\n",
    "\n",
    "PATH_TO_DATASET = \"/home/flo/ssdgm/notebooks/datasets/SSDKL/buzz\"\n",
    "X_ssdkl, y_ssdkl = load_dataset_from_ssdkl(PATH_TO_DATASET)\n",
    "X_ssdkl.shape, y_ssdkl.shape"
   ]
  },
  {
   "cell_type": "markdown",
   "metadata": {},
   "source": [
    "## `Buzz` from `UCI`"
   ]
  },
  {
   "cell_type": "code",
   "execution_count": 3,
   "metadata": {},
   "outputs": [
    {
     "name": "stdout",
     "output_type": "stream",
     "text": [
      "Downloading https://archive.ics.uci.edu/ml/machine-learning-databases/00248/regression.tar.gz to /home/flo/ssdgm/notebooks/datasets/UCI/Buzz/raw/regression.tar.gz\n"
     ]
    },
    {
     "data": {
      "application/vnd.jupyter.widget-view+json": {
       "model_id": "f65f381328b34162922717ba02cb5b98",
       "version_major": 2,
       "version_minor": 0
      },
      "text/plain": [
       "  0%|          | 0/34912829 [00:00<?, ?it/s]"
      ]
     },
     "metadata": {},
     "output_type": "display_data"
    },
    {
     "name": "stdout",
     "output_type": "stream",
     "text": [
      "Extracting /home/flo/ssdgm/notebooks/datasets/UCI/Buzz/raw/regression.tar.gz to /home/flo/ssdgm/notebooks/datasets/UCI/Buzz/raw\n"
     ]
    }
   ],
   "source": [
    "URL = \"https://archive.ics.uci.edu/ml/machine-learning-databases/00248/regression.tar.gz\"\n",
    "DOWNLOAD_FOLDER = \"/home/flo/ssdgm/notebooks/datasets/UCI/Buzz/raw\"\n",
    "\n",
    "download_and_extract_archive(url=URL, download_root=DOWNLOAD_FOLDER)"
   ]
  },
  {
   "cell_type": "code",
   "execution_count": null,
   "metadata": {},
   "outputs": [],
   "source": []
  }
 ],
 "metadata": {
  "interpreter": {
   "hash": "0a2203ed669433b5d3bd33c0d47dbc4f5122e298d03ea49763f0cabe7316dc83"
  },
  "kernelspec": {
   "display_name": "Python 3.8.12 ('ssdgm')",
   "language": "python",
   "name": "python3"
  },
  "language_info": {
   "codemirror_mode": {
    "name": "ipython",
    "version": 3
   },
   "file_extension": ".py",
   "mimetype": "text/x-python",
   "name": "python",
   "nbconvert_exporter": "python",
   "pygments_lexer": "ipython3",
   "version": "3.8.12"
  },
  "orig_nbformat": 4
 },
 "nbformat": 4,
 "nbformat_minor": 2
}
